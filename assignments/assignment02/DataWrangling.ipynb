{
 "cells": [
  {
   "cell_type": "code",
   "execution_count": 1,
   "metadata": {},
   "outputs": [],
   "source": [
    "import pandas as pd\n",
    "import numpy as np\n",
    "import warnings\n",
    "\n",
    "warnings.filterwarnings('ignore')"
   ]
  },
  {
   "cell_type": "code",
   "execution_count": 2,
   "metadata": {},
   "outputs": [],
   "source": [
    "data = pd.read_csv('datasets/Data.csv')"
   ]
  },
  {
   "cell_type": "code",
   "execution_count": 3,
   "metadata": {},
   "outputs": [],
   "source": [
    "# adiciona coluna para o tipo de eleição\n",
    "\n",
    "anos_federais = []\n",
    "for i in range(1998, 2022+1, 4):\n",
    "    anos_federais.append(i)\n",
    "\n",
    "anos_municipais = []\n",
    "for i in range(2000, 2020+1, 4):\n",
    "    anos_municipais.append(i)\n",
    "    \n",
    "tipo_eleicao = []\n",
    "for i in range(0, len(data)):\n",
    "    if data['ano'][i] in anos_federais:\n",
    "        tipo_eleicao.append('federal')\n",
    "    elif data['ano'][i] in anos_municipais:\n",
    "        tipo_eleicao.append('municipal')\n",
    "        \n",
    "data['tipo_eleicao'] = tipo_eleicao"
   ]
  },
  {
   "cell_type": "code",
   "execution_count": null,
   "metadata": {},
   "outputs": [],
   "source": [
    "# atualiza a lista de partidos para os nomes atuais\n",
    "# alguns partidos mudam de nome ao longo do tempo\n",
    "\n",
    "partidos = []\n",
    "\n",
    "for i in range(0, len(data)):\n",
    "    partido = data['sigla_partido'][i]\n",
    "    \n",
    "    if partido == 'PMDB' or partido == 'MDB':\n",
    "        partido = 'PMDB/MDB'\n",
    "    \n",
    "    elif partido == 'PTN' or partido == 'PODE':\n",
    "        partido = 'PTN/PODE'\n",
    "        \n",
    "    elif partido == 'PR' or partido == 'PL':\n",
    "        partido = 'PR/PL'\n",
    "    \n",
    "    elif partido == 'PPS' or partido == 'CIDADANIA':\n",
    "        partido = 'PPS/CIDADANIA'\n",
    "    \n",
    "    elif partido == 'DC' or partido == 'PSDC':\n",
    "        partido = 'DC/PSDC'\n",
    "        \n",
    "    elif partido == 'PEN' or partido == 'PATRIOTA':\n",
    "        partido = 'PEN/PATRIOTA'\n",
    "        \n",
    "    elif partido == 'PT do B' or partido == 'AVANTE': \n",
    "        partido = 'PT do B/AVANTE'\n",
    "        \n",
    "    elif partido == 'PFL' or partido == 'DEM':\n",
    "        partido = 'PFL/DEM'\n",
    "        \n",
    "    elif partido == 'PRN' or partido == 'AGIR':\n",
    "        partido = 'PRN/AGIR'\n",
    "\n",
    "    #elif partido == 'DEM' or partido == 'PSL' or partido == 'UNIÃO':\n",
    "        #partido = 'DEM/PSL/UNIÃO'\n",
    "     \n",
    "    partidos.append(partido)\n",
    "    \n",
    "data['new_partido'] = partidos"
   ]
  },
  {
   "cell_type": "code",
   "execution_count": null,
   "metadata": {},
   "outputs": [],
   "source": [
    "racas_candidatos = {}\n",
    "racas_atualizadas = []\n",
    "\n",
    "anos_com_raca = [2022, 2020, 2018, 2016, 2014]\n",
    "\n",
    "data_raca = data[['id_candidato_bd', 'ano', 'raca']]\n",
    "\n",
    "# pega a raça declarada pelo candidato\n",
    "for i in range(0, len(data_raca)):\n",
    "    ano = data_raca['ano'][i]\n",
    "    \n",
    "    if ano in anos_com_raca:\n",
    "        raca = data_raca['raca'][i]\n",
    "        id_candidato = data_raca['id_candidato_bd'][i]\n",
    "        \n",
    "        if id_candidato not in racas_candidatos and raca != np.nan:\n",
    "            racas_candidatos[id_candidato] = raca\n",
    "\n",
    "# atualiza a raça dos candidatos quando o TSE não fazia mapeamento\n",
    "for i in range(0, len(data)):\n",
    "    id_candidato = data['id_candidato_bd'][i]\n",
    "    \n",
    "    if id_candidato in racas_candidatos:\n",
    "        racas_atualizadas.append(racas_candidatos[id_candidato])\n",
    "    else:\n",
    "        racas_atualizadas.append(data['raca'][i])\n",
    "        \n",
    "data['raca'] = racas_atualizadas"
   ]
  },
  {
   "cell_type": "code",
   "execution_count": null,
   "metadata": {},
   "outputs": [],
   "source": [
    "data.to_csv('datasets/cleanData.csv', index=False)"
   ]
  }
 ],
 "metadata": {
  "kernelspec": {
   "display_name": "Python 3",
   "language": "python",
   "name": "python3"
  },
  "language_info": {
   "codemirror_mode": {
    "name": "ipython",
    "version": 3
   },
   "file_extension": ".py",
   "mimetype": "text/x-python",
   "name": "python",
   "nbconvert_exporter": "python",
   "pygments_lexer": "ipython3",
   "version": "3.10.6"
  },
  "orig_nbformat": 4
 },
 "nbformat": 4,
 "nbformat_minor": 2
}

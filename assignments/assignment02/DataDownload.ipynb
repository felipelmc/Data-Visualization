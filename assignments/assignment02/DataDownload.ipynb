{
 "cells": [
  {
   "cell_type": "code",
   "execution_count": 1,
   "metadata": {},
   "outputs": [],
   "source": [
    "import pandas as pd\n",
    "import basedosdados as bd"
   ]
  },
  {
   "cell_type": "code",
   "execution_count": 2,
   "metadata": {},
   "outputs": [
    {
     "name": "stderr",
     "output_type": "stream",
     "text": [
      "Downloading: 100%|██████████| 88039/88039 [00:10<00:00, 8122.55rows/s]\n",
      "Downloading: 100%|██████████| 41847/41847 [00:02<00:00, 16082.78rows/s]\n",
      "Downloading: 100%|██████████| 62540/62540 [00:05<00:00, 12418.85rows/s]\n"
     ]
    }
   ],
   "source": [
    "query1 = \"\"\"\n",
    "SELECT DISTINCT c.ano, c.id_candidato_bd, c.nome_urna, c.sigla_partido, c.cargo, \n",
    "               c.genero, c.raca, rc.resultado, SUM(rc.votos) votos\n",
    "       \n",
    "FROM basedosdados.br_tse_eleicoes.candidatos c\n",
    "INNER JOIN basedosdados.br_tse_eleicoes.resultados_candidato rc\n",
    "ON c.id_candidato_bd = rc.id_candidato_bd\n",
    "AND c.ano = rc.ano\n",
    "WHERE c.sigla_uf = 'RJ'\n",
    "AND c.cargo in ('deputado estadual', 'deputado federal', 'vereador')\n",
    "AND c.ano in (2022, 2020, 2018, 2016, 2014, 2012, 2010, 2008)\n",
    "GROUP BY c.ano, c.id_candidato_bd, c.nome_urna, c.sigla_partido, c.cargo, \n",
    "         c.genero, c.raca, rc.resultado\n",
    "\"\"\"\n",
    "\n",
    "query2 = \"\"\"\n",
    "SELECT DISTINCT c.ano, c.id_candidato_bd, SUM(bc.valor_item) bens_declarados\n",
    "\n",
    "FROM basedosdados.br_tse_eleicoes.candidatos c\n",
    "INNER JOIN basedosdados.br_tse_eleicoes.bens_candidato bc\n",
    "ON c.id_candidato_bd = bc.id_candidato_bd\n",
    "AND c.ano = bc.ano\n",
    "WHERE c.sigla_uf = 'RJ'\n",
    "AND c.cargo in ('deputado estadual', 'deputado federal', 'vereador')\n",
    "AND c.ano in (2022, 2020, 2018, 2016, 2014, 2012, 2010, 2008)\n",
    "GROUP BY c.ano, c.id_candidato_bd\n",
    "\"\"\"\n",
    "\n",
    "query3 = \"\"\"\n",
    "SELECT DISTINCT c.ano, c.id_candidato_bd, SUM(dc.valor_despesa) despesas_campanha\n",
    "\n",
    "FROM basedosdados.br_tse_eleicoes.candidatos c\n",
    "INNER JOIN basedosdados.br_tse_eleicoes.despesas_candidato dc\n",
    "ON c.id_candidato_bd = dc.id_candidato_bd\n",
    "AND c.ano = dc.ano\n",
    "WHERE c.sigla_uf = 'RJ'\n",
    "AND c.cargo in ('deputado estadual', 'deputado federal', 'vereador')\n",
    "AND c.ano in (2022, 2020, 2018, 2016, 2014, 2012, 2010, 2008)\n",
    "GROUP BY c.ano, c.id_candidato_bd\n",
    "\"\"\"\n",
    "\n",
    "dataCandidatos = bd.read_sql(query1, billing_project_id=\"analise-eleitoral-330723\")\n",
    "dataBens = bd.read_sql(query2, billing_project_id=\"analise-eleitoral-330723\")\n",
    "dataDespesas = bd.read_sql(query3, billing_project_id=\"analise-eleitoral-330723\")"
   ]
  },
  {
   "cell_type": "code",
   "execution_count": 3,
   "metadata": {},
   "outputs": [],
   "source": [
    "data0 = dataCandidatos.merge(dataBens, on=['ano', 'id_candidato_bd'], how='left')\n",
    "data1 = data0.merge(dataDespesas, on=['ano', 'id_candidato_bd'], how='left')"
   ]
  },
  {
   "cell_type": "code",
   "execution_count": 4,
   "metadata": {},
   "outputs": [],
   "source": [
    "data2 = data1.sort_values(by=['ano', 'votos'], ascending=False)\n",
    "data2.to_csv('datasets/Data.csv', index=False)"
   ]
  },
  {
   "cell_type": "code",
   "execution_count": 5,
   "metadata": {},
   "outputs": [
    {
     "name": "stderr",
     "output_type": "stream",
     "text": [
      "Downloading: 100%|██████████| 76941/76941 [00:10<00:00, 7527.95rows/s]\n",
      "Downloading: 100%|██████████| 92/92 [00:01<00:00, 67.23rows/s]\n"
     ]
    }
   ],
   "source": [
    "query4 = \"\"\"\n",
    "SELECT DISTINCT c.ano, c.id_municipio, c.id_candidato_bd, c.nome_urna, c.sigla_partido, c.cargo, \n",
    "               c.genero, c.raca, rc.resultado, SUM(rc.votos) votos\n",
    "       \n",
    "FROM basedosdados.br_tse_eleicoes.candidatos c\n",
    "INNER JOIN basedosdados.br_tse_eleicoes.resultados_candidato rc\n",
    "ON c.id_candidato_bd = rc.id_candidato_bd\n",
    "AND c.ano = rc.ano\n",
    "WHERE c.sigla_uf = 'RJ'\n",
    "AND c.cargo in ('vereador')\n",
    "AND c.ano in (2020, 2016, 2012, 2008)\n",
    "GROUP BY c.ano, c.id_candidato_bd, c.nome_urna, c.sigla_partido, c.cargo, \n",
    "         c.genero, c.raca, rc.resultado, c.id_municipio\n",
    "\"\"\"\n",
    "\n",
    "query5 = \"\"\"\n",
    "SELECT DISTINCT id_municipio, geometria \n",
    "FROM basedosdados.br_geobr_mapas.municipio\n",
    "WHERE sigla_uf = 'RJ'\n",
    "\"\"\"\n",
    "\n",
    "dataVereadores = bd.read_sql(query4, billing_project_id=\"analise-eleitoral-330723\")\n",
    "geometrias = bd.read_sql(query5, billing_project_id=\"analise-eleitoral-330723\")"
   ]
  },
  {
   "cell_type": "code",
   "execution_count": 6,
   "metadata": {},
   "outputs": [],
   "source": [
    "Vereadores = dataVereadores.merge(geometrias, on=['id_municipio'], how='left')\n",
    "Vereadores_genero = Vereadores.groupby(['ano', 'genero', 'raca', 'resultado', 'id_municipio', 'geometria'])['genero'].count().reset_index(name = 'n')\n",
    "Vereadores_raca = Vereadores.groupby(['ano', 'genero', 'raca', 'resultado', 'id_municipio', 'geometria'])['raca'].count().reset_index(name = 'n')"
   ]
  },
  {
   "cell_type": "code",
   "execution_count": 7,
   "metadata": {},
   "outputs": [],
   "source": [
    "Vereadores_genero.to_csv('datasets/VereadoresGenero.csv', index=False)\n",
    "Vereadores_raca.to_csv('datasets/VereadoresRaca.csv', index=False)"
   ]
  }
 ],
 "metadata": {
  "kernelspec": {
   "display_name": "Python 3",
   "language": "python",
   "name": "python3"
  },
  "language_info": {
   "codemirror_mode": {
    "name": "ipython",
    "version": 3
   },
   "file_extension": ".py",
   "mimetype": "text/x-python",
   "name": "python",
   "nbconvert_exporter": "python",
   "pygments_lexer": "ipython3",
   "version": "3.10.6"
  },
  "orig_nbformat": 4
 },
 "nbformat": 4,
 "nbformat_minor": 2
}
